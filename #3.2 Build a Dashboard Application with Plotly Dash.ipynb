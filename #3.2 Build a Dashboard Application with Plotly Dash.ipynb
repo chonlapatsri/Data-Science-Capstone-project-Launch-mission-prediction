{
 "cells": [
  {
   "cell_type": "markdown",
   "id": "d25ecf72",
   "metadata": {},
   "source": [
    "## Build a Dashboard Application with Plotly Dash\n",
    "In this lab, you will be building a Plotly Dash application for users to perform interactive visual analytics on SpaceX launch data in real-time.\n",
    "\n",
    "This dashboard application contains input components such as a dropdown list and a range slider to interact with a pie chart and a scatter point chart. You will be guided to build this dashboard application via the following tasks:\n",
    "\n",
    "- TASK 1: Add a Launch Site Drop-down Input Component\n",
    "- TASK 2: Add a callback function to render success-pie-chart based on selected site dropdown\n",
    "- TASK 3: Add a Range Slider to Select Payload\n",
    "- TASK 4: Add a callback function to render the success-payload-scatter-chart scatter plot"
   ]
  },
  {
   "cell_type": "markdown",
   "id": "5d696e84",
   "metadata": {},
   "source": [
    "#### Your completed dashboard application should look like the following screenshot:\n",
    "<img src=\"https://cf-courses-data.s3.us.cloud-object-storage.appdomain.cloud/IBM-DS0321EN-SkillsNetwork/labs/module_3/images/dash_completed.PNG\">\n",
    "\n",
    "After visual analysis using the dashboard, you should be able to obtain some insights to answer the following five questions:\n",
    "\n",
    "1. Which site has the largest successful launches?\n",
    "2. Which site has the highest launch success rate?\n",
    "3. Which payload range(s) has the highest launch success rate?\n",
    "4. Which payload range(s) has the lowest launch success rate?\n",
    "5. Which F9 Booster version (v1.0, v1.1, FT, B4, B5, etc.) has the highest"
   ]
  },
  {
   "cell_type": "code",
   "execution_count": null,
   "id": "36e09e9f",
   "metadata": {
    "scrolled": true
   },
   "outputs": [],
   "source": [
    "!pip install wget"
   ]
  },
  {
   "cell_type": "code",
   "execution_count": 1,
   "id": "53fcb37a",
   "metadata": {},
   "outputs": [],
   "source": [
    "from dash import Dash, dcc, html, Input, Output\n",
    "import plotly.express as px\n",
    "\n",
    "import wget\n",
    "import pandas as pd"
   ]
  },
  {
   "cell_type": "code",
   "execution_count": 2,
   "id": "d1f51def",
   "metadata": {},
   "outputs": [
    {
     "name": "stdout",
     "output_type": "stream",
     "text": [
      "\r",
      "  0% [                                                                                ]    0 / 2476\r",
      "100% [................................................................................] 2476 / 2476"
     ]
    }
   ],
   "source": [
    "spacex_csv_file = wget.download(\"https://cf-courses-data.s3.us.cloud-object-storage.appdomain.cloud/IBM-DS0321EN-SkillsNetwork/datasets/spacex_launch_dash.csv\")"
   ]
  },
  {
   "cell_type": "code",
   "execution_count": 3,
   "id": "bbd3893e",
   "metadata": {},
   "outputs": [
    {
     "data": {
      "text/html": [
       "<div>\n",
       "<style scoped>\n",
       "    .dataframe tbody tr th:only-of-type {\n",
       "        vertical-align: middle;\n",
       "    }\n",
       "\n",
       "    .dataframe tbody tr th {\n",
       "        vertical-align: top;\n",
       "    }\n",
       "\n",
       "    .dataframe thead th {\n",
       "        text-align: right;\n",
       "    }\n",
       "</style>\n",
       "<table border=\"1\" class=\"dataframe\">\n",
       "  <thead>\n",
       "    <tr style=\"text-align: right;\">\n",
       "      <th></th>\n",
       "      <th>Flight Number</th>\n",
       "      <th>Launch Site</th>\n",
       "      <th>class</th>\n",
       "      <th>Payload Mass (kg)</th>\n",
       "      <th>Booster Version</th>\n",
       "      <th>Booster Version Category</th>\n",
       "    </tr>\n",
       "  </thead>\n",
       "  <tbody>\n",
       "    <tr>\n",
       "      <th>0</th>\n",
       "      <td>1</td>\n",
       "      <td>CCAFS LC-40</td>\n",
       "      <td>0</td>\n",
       "      <td>0.0</td>\n",
       "      <td>F9 v1.0  B0003</td>\n",
       "      <td>v1.0</td>\n",
       "    </tr>\n",
       "    <tr>\n",
       "      <th>1</th>\n",
       "      <td>2</td>\n",
       "      <td>CCAFS LC-40</td>\n",
       "      <td>0</td>\n",
       "      <td>0.0</td>\n",
       "      <td>F9 v1.0  B0004</td>\n",
       "      <td>v1.0</td>\n",
       "    </tr>\n",
       "    <tr>\n",
       "      <th>2</th>\n",
       "      <td>3</td>\n",
       "      <td>CCAFS LC-40</td>\n",
       "      <td>0</td>\n",
       "      <td>525.0</td>\n",
       "      <td>F9 v1.0  B0005</td>\n",
       "      <td>v1.0</td>\n",
       "    </tr>\n",
       "    <tr>\n",
       "      <th>3</th>\n",
       "      <td>4</td>\n",
       "      <td>CCAFS LC-40</td>\n",
       "      <td>0</td>\n",
       "      <td>500.0</td>\n",
       "      <td>F9 v1.0  B0006</td>\n",
       "      <td>v1.0</td>\n",
       "    </tr>\n",
       "    <tr>\n",
       "      <th>4</th>\n",
       "      <td>5</td>\n",
       "      <td>CCAFS LC-40</td>\n",
       "      <td>0</td>\n",
       "      <td>677.0</td>\n",
       "      <td>F9 v1.0  B0007</td>\n",
       "      <td>v1.0</td>\n",
       "    </tr>\n",
       "  </tbody>\n",
       "</table>\n",
       "</div>"
      ],
      "text/plain": [
       "   Flight Number  Launch Site  class  Payload Mass (kg) Booster Version  \\\n",
       "0              1  CCAFS LC-40      0                0.0  F9 v1.0  B0003   \n",
       "1              2  CCAFS LC-40      0                0.0  F9 v1.0  B0004   \n",
       "2              3  CCAFS LC-40      0              525.0  F9 v1.0  B0005   \n",
       "3              4  CCAFS LC-40      0              500.0  F9 v1.0  B0006   \n",
       "4              5  CCAFS LC-40      0              677.0  F9 v1.0  B0007   \n",
       "\n",
       "  Booster Version Category  \n",
       "0                     v1.0  \n",
       "1                     v1.0  \n",
       "2                     v1.0  \n",
       "3                     v1.0  \n",
       "4                     v1.0  "
      ]
     },
     "execution_count": 3,
     "metadata": {},
     "output_type": "execute_result"
    }
   ],
   "source": [
    "spacex_df = pd.read_csv(spacex_csv_file, index_col=0)\n",
    "spacex_df.head()"
   ]
  },
  {
   "cell_type": "code",
   "execution_count": 4,
   "id": "f3016004",
   "metadata": {},
   "outputs": [],
   "source": [
    "external_stylesheets = ['https://codepen.io/chriddyp/pen/bWLwgP.css']\n",
    "app = Dash(__name__, external_stylesheets=external_stylesheets)"
   ]
  },
  {
   "cell_type": "code",
   "execution_count": 5,
   "id": "5edca6bc",
   "metadata": {
    "scrolled": true
   },
   "outputs": [
    {
     "name": "stdout",
     "output_type": "stream",
     "text": [
      "0   9600\n"
     ]
    }
   ],
   "source": [
    "min_value = int(spacex_df['Payload Mass (kg)'].min())\n",
    "max_value = int(spacex_df['Payload Mass (kg)'].max())\n",
    "\n",
    "print(min_value,\" \", max_value)"
   ]
  },
  {
   "cell_type": "code",
   "execution_count": 6,
   "id": "08d9bf21",
   "metadata": {
    "scrolled": true
   },
   "outputs": [
    {
     "name": "stdout",
     "output_type": "stream",
     "text": [
      "['All Sites', 'CCAFS LC-40', 'VAFB SLC-4E', 'KSC LC-39A', 'CCAFS SLC-40']\n",
      "Dash is running on http://127.0.0.1:8050/\n",
      "\n",
      " * Serving Flask app \"__main__\" (lazy loading)\n",
      " * Environment: production\n",
      "\u001b[31m   WARNING: This is a development server. Do not use it in a production deployment.\u001b[0m\n",
      "\u001b[2m   Use a production WSGI server instead.\u001b[0m\n",
      " * Debug mode: on\n"
     ]
    }
   ],
   "source": [
    "Site_options = ['All Sites'] + list(spacex_df['Launch Site'].unique())\n",
    "print(Site_options)\n",
    "\n",
    "app.layout = html.Div(children=[html.H1('Launch Performance Dashboard', \n",
    "                                style={'textAlign': 'center', 'color': '#503D36',\n",
    "                                'font-size': 40}),\n",
    "                                \n",
    "                                html.Div([dcc.Dropdown(id='site-dropdown', multi=True, searchable = True,\n",
    "                                                       options=[{'label': x, 'value': x} for x in Site_options],\n",
    "                                                       value=[Site_options[0]])]),\n",
    "                                \n",
    "                                html.Div([dcc.Graph(id='success-pie-chart', figure={})]),\n",
    "                                \n",
    "                                html.P(\"Payload range (Kg):\"),\n",
    "                                html.Div([dcc.RangeSlider(id='payload-slider', min=0, max=10000, step=500, \n",
    "                                                         marks={0:'0', 2500:'2500', 5000:'5000', 7500:'7500', 10000:'10000'}, \n",
    "                                                         value=[min_value, max_value])]),\n",
    "                                \n",
    "                                html.Div(dcc.Graph(id='success-payload-scatter-chart', figure={})),\n",
    "                               \n",
    "                               ])\n",
    "\n",
    "@app.callback(Output(component_id='success-pie-chart', component_property='figure'),\n",
    "              Input(component_id='site-dropdown', component_property='value'),\n",
    "              Input(component_id='payload-slider', component_property='value'),\n",
    "             )\n",
    "\n",
    "\n",
    "def get_pie_chart(entered_site, min_max_kg):\n",
    "    filtered_df = spacex_df[(spacex_df['Payload Mass (kg)'] >= min_max_kg[0]) & (spacex_df['Payload Mass (kg)'] <= min_max_kg[1])]\n",
    "    if 'All Sites' in entered_site:\n",
    "        fig = px.pie(data_frame=filtered_df, values='class', names='Launch Site', title='Total success launch by All Site')\n",
    "        return fig\n",
    "    else:\n",
    "        # return the outcomes piechart for a selected site\n",
    "        data = filtered_df[filtered_df['Launch Site'].isin(entered_site)]\n",
    "        data = data.groupby(['Launch Site','class']).size().reset_index(name='class count')\n",
    "        fig = px.pie(data_frame=data, values='class count', names='class', \n",
    "                     title=f'Total success launch for site {entered_site}')\n",
    "        return fig\n",
    "    \n",
    "@app.callback(Output(component_id='success-payload-scatter-chart', component_property='figure'),\n",
    "              Input(component_id='site-dropdown', component_property='value'),\n",
    "              Input(component_id=\"payload-slider\", component_property=\"value\"),  \n",
    "             )\n",
    "\n",
    "def get_scatter_chart(entered_site, min_max_kg):\n",
    "    filtered_df = spacex_df[(spacex_df['Payload Mass (kg)'] >= min_max_kg[0]) & (spacex_df['Payload Mass (kg)'] <= min_max_kg[1])]\n",
    "    if 'All Sites' in entered_site:\n",
    "        fig2 = px.scatter(data_frame=filtered_df,x='Payload Mass (kg)',y='class',hover_data=['Launch Site'],color='Booster Version Category')\n",
    "        return fig2\n",
    "    else:\n",
    "        data = filtered_df[filtered_df['Launch Site'].isin(entered_site)]\n",
    "        fig2 = px.scatter(data_frame=data,x='Payload Mass (kg)',y='class',hover_data=['Launch Site'],color='Booster Version Category')\n",
    "        return fig2\n",
    "        \n",
    "    \n",
    "        \n",
    "\n",
    "\n",
    "if __name__ == '__main__':\n",
    "    app.run_server(debug=True, use_reloader=False)"
   ]
  },
  {
   "cell_type": "code",
   "execution_count": null,
   "id": "17a0d9a7",
   "metadata": {
    "scrolled": true
   },
   "outputs": [],
   "source": [
    "#data_f = spacex_df[spacex_df['Launch Site'].isin(['CCAFS LC-40','CCAFS SLC-40'])]\n",
    "#data_f"
   ]
  },
  {
   "cell_type": "code",
   "execution_count": null,
   "id": "295dae12",
   "metadata": {},
   "outputs": [],
   "source": [
    "#data_f = data_f[(data_f['Payload Mass (kg)'] >= 100) & (data_f['Payload Mass (kg)'] <= 4000)]\n",
    "#data_f"
   ]
  },
  {
   "cell_type": "code",
   "execution_count": null,
   "id": "634722bf",
   "metadata": {},
   "outputs": [],
   "source": [
    "#data_f = data_f.groupby(['Launch Site','class']).size().reset_index(name='class count')\n",
    "#data_f"
   ]
  }
 ],
 "metadata": {
  "kernelspec": {
   "display_name": "Python 3 (ipykernel)",
   "language": "python",
   "name": "python3"
  },
  "language_info": {
   "codemirror_mode": {
    "name": "ipython",
    "version": 3
   },
   "file_extension": ".py",
   "mimetype": "text/x-python",
   "name": "python",
   "nbconvert_exporter": "python",
   "pygments_lexer": "ipython3",
   "version": "3.9.7"
  }
 },
 "nbformat": 4,
 "nbformat_minor": 5
}
